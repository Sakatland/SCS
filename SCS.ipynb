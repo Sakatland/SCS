{
  "nbformat": 4,
  "nbformat_minor": 0,
  "metadata": {
    "colab": {
      "name": "SCS.ipynb",
      "provenance": [],
      "collapsed_sections": [],
      "toc_visible": true
    },
    "kernelspec": {
      "name": "python3",
      "display_name": "Python 3"
    }
  },
  "cells": [
    {
      "cell_type": "markdown",
      "metadata": {
        "id": "QklWpfk-OD-Z",
        "colab_type": "text"
      },
      "source": [
        "# Sakat's Coc Script\n",
        "\n"
      ]
    },
    {
      "cell_type": "markdown",
      "metadata": {
        "id": "a3muX1FiFCKJ",
        "colab_type": "text"
      },
      "source": [
        "### 1. Download & Install"
      ]
    },
    {
      "cell_type": "markdown",
      "metadata": {
        "id": "SoMMfcUmJeVH",
        "colab_type": "text"
      },
      "source": [
        "1.1. Download SCS from Github"
      ]
    },
    {
      "cell_type": "code",
      "metadata": {
        "id": "ApAMN6c4Ftc8",
        "colab_type": "code",
        "colab": {}
      },
      "source": [
        "!git clone https://github.com/Sakatland/SCS.git"
      ],
      "execution_count": 0,
      "outputs": []
    },
    {
      "cell_type": "markdown",
      "metadata": {
        "id": "wTl4p1THJkPw",
        "colab_type": "text"
      },
      "source": [
        "1.2. Clean things up and prepare files"
      ]
    },
    {
      "cell_type": "code",
      "metadata": {
        "id": "3hZfW5zeSyPU",
        "colab_type": "code",
        "colab": {}
      },
      "source": [
        "mv ./SCS/SCS/SCS.py ./ && rm -r SCS sample_data && touch Token.txt Wartags.txt"
      ],
      "execution_count": 0,
      "outputs": []
    },
    {
      "cell_type": "markdown",
      "metadata": {
        "id": "6XyBNcTvJw0V",
        "colab_type": "text"
      },
      "source": [
        "1.3. Install dependencies"
      ]
    },
    {
      "cell_type": "code",
      "metadata": {
        "id": "5aVnDwZPJD8V",
        "colab_type": "code",
        "colab": {}
      },
      "source": [
        "!pip install cocapi==1.0.5 datetime"
      ],
      "execution_count": 0,
      "outputs": []
    },
    {
      "cell_type": "markdown",
      "metadata": {
        "id": "ncc4fxcwEaTU",
        "colab_type": "text"
      },
      "source": [
        "### 2. API & Token"
      ]
    },
    {
      "cell_type": "markdown",
      "metadata": {
        "id": "s4yaACZ9Mb-A",
        "colab_type": "text"
      },
      "source": [
        "The IP of your colab session will change every time you restart it, don't forget to update your API Token."
      ]
    },
    {
      "cell_type": "markdown",
      "metadata": {
        "id": "0ckiS6jRJ7eh",
        "colab_type": "text"
      },
      "source": [
        "2.1. Find the IP of your colab session"
      ]
    },
    {
      "cell_type": "code",
      "metadata": {
        "id": "0GkjpGKFIBZq",
        "colab_type": "code",
        "outputId": "de3b770c-687b-4328-86e5-0c2823e52b30",
        "colab": {
          "base_uri": "https://localhost:8080/",
          "height": 35
        }
      },
      "source": [
        "!curl ipecho.net/plain"
      ],
      "execution_count": 0,
      "outputs": [
        {
          "output_type": "stream",
          "text": [
            "35.243.254.84"
          ],
          "name": "stdout"
        }
      ]
    },
    {
      "cell_type": "markdown",
      "metadata": {
        "id": "MfOKz2KEKCjh",
        "colab_type": "text"
      },
      "source": [
        "2.2. Get your token from:\n",
        "\n",
        "http://developer.clashofclans.com/\n",
        "\n",
        "Remember to use the IP shown in 2.1.\n",
        "\n",
        "---\n",
        "\n",
        "2.3. Double-click on Token.txt (left panel) to open it\n",
        "\n",
        "---\n",
        "\n",
        "2.4. Copy-paste your API token in Token.txt\n",
        "\n",
        "---\n",
        "\n",
        "2.5. Save Token.txt:\n",
        "\n",
        "Menu: File --- Save \n",
        "\n",
        "(or use shortcut CTRL+S)"
      ]
    },
    {
      "cell_type": "markdown",
      "metadata": {
        "id": "PXkbyKPCFMFU",
        "colab_type": "text"
      },
      "source": [
        "### 3. Execute SCS.py"
      ]
    },
    {
      "cell_type": "code",
      "metadata": {
        "id": "yvl6L0fSHvSV",
        "colab_type": "code",
        "colab": {}
      },
      "source": [
        "!python SCS.py"
      ],
      "execution_count": 0,
      "outputs": []
    },
    {
      "cell_type": "markdown",
      "metadata": {
        "id": "50wbOQXVN53M",
        "colab_type": "text"
      },
      "source": [
        "### 4. Download the txt files generated"
      ]
    },
    {
      "cell_type": "markdown",
      "metadata": {
        "id": "CX0lokE0O_sx",
        "colab_type": "text"
      },
      "source": [
        "---\n",
        "## Final word\n",
        "\n",
        "\n",
        "\n",
        "To see the individual performance of your clan, you can use the data exported by the script in my Google Sheet:\n",
        "\n",
        "https://forum.supercell.com/showthread.php/1770241-CWL-Planning-Sheet-to-manage-members-in-CWL\n",
        "\n",
        "Tutorial to use SCS with CWL Planning Sheet:\n",
        "\n",
        "https://www.youtube.com/watch?v=WuOY4Sr4KmY\n",
        "\n",
        "---\n",
        "\n",
        "Check my other projects:\n",
        "\n",
        "http://www.cgleech.tk/\n",
        "\n",
        "---\n",
        "\n",
        "Join our Discord:\n",
        "\n",
        "https://discord.gg/mRHhWUY"
      ]
    }
  ]
}